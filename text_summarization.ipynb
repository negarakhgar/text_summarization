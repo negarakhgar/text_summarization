{
  "nbformat": 4,
  "nbformat_minor": 0,
  "metadata": {
    "colab": {
      "provenance": []
    },
    "kernelspec": {
      "name": "python3",
      "display_name": "Python 3"
    },
    "language_info": {
      "name": "python"
    }
  },
  "cells": [
    {
      "cell_type": "markdown",
      "source": [
        "**TEXT SUMMARIZATION**"
      ],
      "metadata": {
        "id": "d7zU_wssMt9h"
      }
    },
    {
      "cell_type": "code",
      "execution_count": 4,
      "metadata": {
        "id": "-_J6S4kEMsh6"
      },
      "outputs": [],
      "source": [
        "text = \"\"\"Renewable energy comes from natural sources that are constantly replenished, such as sunlight, wind, rain, tides, waves, and geothermal heat. Unlike fossil fuels, which are limited and polluting, renewable energy is sustainable and eco-friendly.\n",
        "\n",
        "Renewable energy helps protect the environment by reducing greenhouse gas emissions and air pollution, both major causes of climate change and health issues. It also enhances energy security by reducing dependence on imported fuels and diversifying energy sources. This shift can protect countries from geopolitical risks and price fluctuations related to fossil fuels.\n",
        "\n",
        "Investing in renewable energy technologies boosts economic growth by creating jobs in various sectors, such as manufacturing, installation, and maintenance. Moreover, renewable energy sources are inexhaustible, unlike fossil fuels, making them crucial for a sustainable energy system in the future.However, the transition to renewable energy faces challenges, like the intermittency of sources such as solar and wind, which don't produce energy continuously. Advancements in energy storage technologies and updating the grid infrastructure are necessary to address these issues. Investment in research, supportive policies, and international cooperation are essential to ensure a successful shift to renewable energy, leading to a cleaner, healthier, and more sustainable world.\"\"\""
      ]
    },
    {
      "cell_type": "code",
      "source": [
        "len(text)"
      ],
      "metadata": {
        "colab": {
          "base_uri": "https://localhost:8080/"
        },
        "id": "Zi0N6aVmPZM4",
        "outputId": "498719a7-cca9-49b9-8b59-5e44ed6585b6"
      },
      "execution_count": 5,
      "outputs": [
        {
          "output_type": "execute_result",
          "data": {
            "text/plain": [
              "1396"
            ]
          },
          "metadata": {},
          "execution_count": 5
        }
      ]
    },
    {
      "cell_type": "markdown",
      "source": [
        "**IMPORTING THE LIBRARY AND DATASET**"
      ],
      "metadata": {
        "id": "z7YkOu_nPyUF"
      }
    },
    {
      "cell_type": "code",
      "source": [
        "import spacy\n",
        "from spacy.lang.en.stop_words import STOP_WORDS\n",
        "from string import punctuation"
      ],
      "metadata": {
        "id": "BBl3LDdkP1qq"
      },
      "execution_count": 7,
      "outputs": []
    },
    {
      "cell_type": "code",
      "source": [
        "nlp =spacy.load(\"en_core_web_sm\")"
      ],
      "metadata": {
        "id": "fjkiEBapQSKn"
      },
      "execution_count": 8,
      "outputs": []
    },
    {
      "cell_type": "code",
      "source": [
        "doc = nlp(text)"
      ],
      "metadata": {
        "id": "BUaZH5taQeLW"
      },
      "execution_count": 9,
      "outputs": []
    },
    {
      "cell_type": "code",
      "source": [
        "tokens = [token.text for token in doc]\n",
        "print(tokens)"
      ],
      "metadata": {
        "colab": {
          "base_uri": "https://localhost:8080/"
        },
        "id": "nmL-9dlyQs6k",
        "outputId": "48343ee4-c629-4f63-af21-4798bd1ed852"
      },
      "execution_count": 10,
      "outputs": [
        {
          "output_type": "stream",
          "name": "stdout",
          "text": [
            "['Renewable', 'energy', 'comes', 'from', 'natural', 'sources', 'that', 'are', 'constantly', 'replenished', ',', 'such', 'as', 'sunlight', ',', 'wind', ',', 'rain', ',', 'tides', ',', 'waves', ',', 'and', 'geothermal', 'heat', '.', 'Unlike', 'fossil', 'fuels', ',', 'which', 'are', 'limited', 'and', 'polluting', ',', 'renewable', 'energy', 'is', 'sustainable', 'and', 'eco', '-', 'friendly', '.', '\\n\\n', 'Renewable', 'energy', 'helps', 'protect', 'the', 'environment', 'by', 'reducing', 'greenhouse', 'gas', 'emissions', 'and', 'air', 'pollution', ',', 'both', 'major', 'causes', 'of', 'climate', 'change', 'and', 'health', 'issues', '.', 'It', 'also', 'enhances', 'energy', 'security', 'by', 'reducing', 'dependence', 'on', 'imported', 'fuels', 'and', 'diversifying', 'energy', 'sources', '.', 'This', 'shift', 'can', 'protect', 'countries', 'from', 'geopolitical', 'risks', 'and', 'price', 'fluctuations', 'related', 'to', 'fossil', 'fuels', '.', '\\n\\n', 'Investing', 'in', 'renewable', 'energy', 'technologies', 'boosts', 'economic', 'growth', 'by', 'creating', 'jobs', 'in', 'various', 'sectors', ',', 'such', 'as', 'manufacturing', ',', 'installation', ',', 'and', 'maintenance', '.', 'Moreover', ',', 'renewable', 'energy', 'sources', 'are', 'inexhaustible', ',', 'unlike', 'fossil', 'fuels', ',', 'making', 'them', 'crucial', 'for', 'a', 'sustainable', 'energy', 'system', 'in', 'the', 'future', '.', 'However', ',', 'the', 'transition', 'to', 'renewable', 'energy', 'faces', 'challenges', ',', 'like', 'the', 'intermittency', 'of', 'sources', 'such', 'as', 'solar', 'and', 'wind', ',', 'which', 'do', \"n't\", 'produce', 'energy', 'continuously', '.', 'Advancements', 'in', 'energy', 'storage', 'technologies', 'and', 'updating', 'the', 'grid', 'infrastructure', 'are', 'necessary', 'to', 'address', 'these', 'issues', '.', 'Investment', 'in', 'research', ',', 'supportive', 'policies', ',', 'and', 'international', 'cooperation', 'are', 'essential', 'to', 'ensure', 'a', 'successful', 'shift', 'to', 'renewable', 'energy', ',', 'leading', 'to', 'a', 'cleaner', ',', 'healthier', ',', 'and', 'more', 'sustainable', 'world', '.']\n"
          ]
        }
      ]
    },
    {
      "cell_type": "code",
      "source": [
        "punctuation"
      ],
      "metadata": {
        "colab": {
          "base_uri": "https://localhost:8080/",
          "height": 35
        },
        "id": "JjnPLaC6RIhw",
        "outputId": "8915122e-67ad-4afb-a07f-d39afefe3403"
      },
      "execution_count": 11,
      "outputs": [
        {
          "output_type": "execute_result",
          "data": {
            "text/plain": [
              "'!\"#$%&\\'()*+,-./:;<=>?@[\\\\]^_`{|}~'"
            ],
            "application/vnd.google.colaboratory.intrinsic+json": {
              "type": "string"
            }
          },
          "metadata": {},
          "execution_count": 11
        }
      ]
    },
    {
      "cell_type": "code",
      "source": [
        "punctuation = punctuation + '\\n'"
      ],
      "metadata": {
        "id": "0TyMzfAPRSZD"
      },
      "execution_count": 12,
      "outputs": []
    },
    {
      "cell_type": "code",
      "source": [
        "punctuation"
      ],
      "metadata": {
        "colab": {
          "base_uri": "https://localhost:8080/",
          "height": 35
        },
        "id": "Iwy6_KZYRXZ1",
        "outputId": "846118c2-96c1-4d86-e205-fab42d11c6a8"
      },
      "execution_count": 13,
      "outputs": [
        {
          "output_type": "execute_result",
          "data": {
            "text/plain": [
              "'!\"#$%&\\'()*+,-./:;<=>?@[\\\\]^_`{|}~\\n'"
            ],
            "application/vnd.google.colaboratory.intrinsic+json": {
              "type": "string"
            }
          },
          "metadata": {},
          "execution_count": 13
        }
      ]
    },
    {
      "cell_type": "markdown",
      "source": [
        "**TEXT CLEANING**"
      ],
      "metadata": {
        "id": "pJE5flr-RjN0"
      }
    },
    {
      "cell_type": "markdown",
      "source": [
        "**create word frequency , how many times each work appear**"
      ],
      "metadata": {
        "id": "cdyFkugOS-Ay"
      }
    },
    {
      "cell_type": "code",
      "source": [
        "word_freq ={}\n",
        "stop_words = list(STOP_WORDS)\n",
        "for word in doc:\n",
        "  if word.text.lower() not in stop_words:\n",
        "    if word.text.lower() not in punctuation:\n",
        "      if word.text not in word_freq.keys():\n",
        "        word_freq[word.text] = 1\n",
        "      else :\n",
        "        word_freq[word.text] +=1\n",
        "\n"
      ],
      "metadata": {
        "id": "eu1ORLQ1RmhB"
      },
      "execution_count": 19,
      "outputs": []
    },
    {
      "cell_type": "code",
      "source": [
        "print(word_freq)"
      ],
      "metadata": {
        "colab": {
          "base_uri": "https://localhost:8080/"
        },
        "id": "psMwsaE_o04a",
        "outputId": "a4604179-ae42-4e2d-ce45-b2cff9c448f0"
      },
      "execution_count": 24,
      "outputs": [
        {
          "output_type": "stream",
          "name": "stdout",
          "text": [
            "{'Renewable': 2, 'energy': 12, 'comes': 1, 'natural': 1, 'sources': 4, 'constantly': 1, 'replenished': 1, 'sunlight': 1, 'wind': 2, 'rain': 1, 'tides': 1, 'waves': 1, 'geothermal': 1, 'heat': 1, 'Unlike': 1, 'fossil': 3, 'fuels': 4, 'limited': 1, 'polluting': 1, 'renewable': 5, 'sustainable': 3, 'eco': 1, 'friendly': 1, '\\n\\n': 2, 'helps': 1, 'protect': 2, 'environment': 1, 'reducing': 2, 'greenhouse': 1, 'gas': 1, 'emissions': 1, 'air': 1, 'pollution': 1, 'major': 1, 'causes': 1, 'climate': 1, 'change': 1, 'health': 1, 'issues': 2, 'enhances': 1, 'security': 1, 'dependence': 1, 'imported': 1, 'diversifying': 1, 'shift': 2, 'countries': 1, 'geopolitical': 1, 'risks': 1, 'price': 1, 'fluctuations': 1, 'related': 1, 'Investing': 1, 'technologies': 2, 'boosts': 1, 'economic': 1, 'growth': 1, 'creating': 1, 'jobs': 1, 'sectors': 1, 'manufacturing': 1, 'installation': 1, 'maintenance': 1, 'inexhaustible': 1, 'unlike': 1, 'making': 1, 'crucial': 1, 'system': 1, 'future': 1, 'transition': 1, 'faces': 1, 'challenges': 1, 'like': 1, 'intermittency': 1, 'solar': 1, 'produce': 1, 'continuously': 1, 'Advancements': 1, 'storage': 1, 'updating': 1, 'grid': 1, 'infrastructure': 1, 'necessary': 1, 'address': 1, 'Investment': 1, 'research': 1, 'supportive': 1, 'policies': 1, 'international': 1, 'cooperation': 1, 'essential': 1, 'ensure': 1, 'successful': 1, 'leading': 1, 'cleaner': 1, 'healthier': 1, 'world': 1}\n"
          ]
        }
      ]
    },
    {
      "cell_type": "code",
      "source": [
        "max_freq = max(word_freq.values())"
      ],
      "metadata": {
        "id": "OolUMe1zpDTg"
      },
      "execution_count": 27,
      "outputs": []
    },
    {
      "cell_type": "markdown",
      "source": [
        "**we are trying to normalize all the score as the max number is 12**\n",
        "Raw frequencies can be large numbers and difficult to compare directly. Normalizing them scales the values to a range, typically between 0 and 1, making comparisons easier."
      ],
      "metadata": {
        "id": "Klh5lXbEppV0"
      }
    },
    {
      "cell_type": "code",
      "source": [
        "for word in word_freq.keys():\n",
        "  word_freq[word] = word_freq[word] / max_freq"
      ],
      "metadata": {
        "id": "iRqpCtG8puLL"
      },
      "execution_count": 29,
      "outputs": []
    },
    {
      "cell_type": "code",
      "source": [
        "print(word_freq)"
      ],
      "metadata": {
        "colab": {
          "base_uri": "https://localhost:8080/"
        },
        "id": "DfBHmsGkqTVj",
        "outputId": "1e9deffa-73aa-4aa4-c7f2-87d8889ef2fb"
      },
      "execution_count": 30,
      "outputs": [
        {
          "output_type": "stream",
          "name": "stdout",
          "text": [
            "{'Renewable': 0.16666666666666666, 'energy': 1.0, 'comes': 0.08333333333333333, 'natural': 0.08333333333333333, 'sources': 0.3333333333333333, 'constantly': 0.08333333333333333, 'replenished': 0.08333333333333333, 'sunlight': 0.08333333333333333, 'wind': 0.16666666666666666, 'rain': 0.08333333333333333, 'tides': 0.08333333333333333, 'waves': 0.08333333333333333, 'geothermal': 0.08333333333333333, 'heat': 0.08333333333333333, 'Unlike': 0.08333333333333333, 'fossil': 0.25, 'fuels': 0.3333333333333333, 'limited': 0.08333333333333333, 'polluting': 0.08333333333333333, 'renewable': 0.4166666666666667, 'sustainable': 0.25, 'eco': 0.08333333333333333, 'friendly': 0.08333333333333333, '\\n\\n': 0.16666666666666666, 'helps': 0.08333333333333333, 'protect': 0.16666666666666666, 'environment': 0.08333333333333333, 'reducing': 0.16666666666666666, 'greenhouse': 0.08333333333333333, 'gas': 0.08333333333333333, 'emissions': 0.08333333333333333, 'air': 0.08333333333333333, 'pollution': 0.08333333333333333, 'major': 0.08333333333333333, 'causes': 0.08333333333333333, 'climate': 0.08333333333333333, 'change': 0.08333333333333333, 'health': 0.08333333333333333, 'issues': 0.16666666666666666, 'enhances': 0.08333333333333333, 'security': 0.08333333333333333, 'dependence': 0.08333333333333333, 'imported': 0.08333333333333333, 'diversifying': 0.08333333333333333, 'shift': 0.16666666666666666, 'countries': 0.08333333333333333, 'geopolitical': 0.08333333333333333, 'risks': 0.08333333333333333, 'price': 0.08333333333333333, 'fluctuations': 0.08333333333333333, 'related': 0.08333333333333333, 'Investing': 0.08333333333333333, 'technologies': 0.16666666666666666, 'boosts': 0.08333333333333333, 'economic': 0.08333333333333333, 'growth': 0.08333333333333333, 'creating': 0.08333333333333333, 'jobs': 0.08333333333333333, 'sectors': 0.08333333333333333, 'manufacturing': 0.08333333333333333, 'installation': 0.08333333333333333, 'maintenance': 0.08333333333333333, 'inexhaustible': 0.08333333333333333, 'unlike': 0.08333333333333333, 'making': 0.08333333333333333, 'crucial': 0.08333333333333333, 'system': 0.08333333333333333, 'future': 0.08333333333333333, 'transition': 0.08333333333333333, 'faces': 0.08333333333333333, 'challenges': 0.08333333333333333, 'like': 0.08333333333333333, 'intermittency': 0.08333333333333333, 'solar': 0.08333333333333333, 'produce': 0.08333333333333333, 'continuously': 0.08333333333333333, 'Advancements': 0.08333333333333333, 'storage': 0.08333333333333333, 'updating': 0.08333333333333333, 'grid': 0.08333333333333333, 'infrastructure': 0.08333333333333333, 'necessary': 0.08333333333333333, 'address': 0.08333333333333333, 'Investment': 0.08333333333333333, 'research': 0.08333333333333333, 'supportive': 0.08333333333333333, 'policies': 0.08333333333333333, 'international': 0.08333333333333333, 'cooperation': 0.08333333333333333, 'essential': 0.08333333333333333, 'ensure': 0.08333333333333333, 'successful': 0.08333333333333333, 'leading': 0.08333333333333333, 'cleaner': 0.08333333333333333, 'healthier': 0.08333333333333333, 'world': 0.08333333333333333}\n"
          ]
        }
      ]
    },
    {
      "cell_type": "markdown",
      "source": [
        "**SENTENCES TOKENIZATION**"
      ],
      "metadata": {
        "id": "hrB7ekU8qh8c"
      }
    },
    {
      "cell_type": "code",
      "source": [
        "sent_tokens = [sent for sent in doc.sents]\n",
        "print(sent_tokens)"
      ],
      "metadata": {
        "colab": {
          "base_uri": "https://localhost:8080/"
        },
        "id": "OdhJk5AJqmh9",
        "outputId": "634a855f-4a07-47ab-9225-ea8377ea3786"
      },
      "execution_count": 31,
      "outputs": [
        {
          "output_type": "stream",
          "name": "stdout",
          "text": [
            "[Renewable energy comes from natural sources that are constantly replenished, such as sunlight, wind, rain, tides, waves, and geothermal heat., Unlike fossil fuels, which are limited and polluting, renewable energy is sustainable and eco-friendly.\n",
            "\n",
            ", Renewable energy helps protect the environment by reducing greenhouse gas emissions and air pollution, both major causes of climate change and health issues., It also enhances energy security by reducing dependence on imported fuels and diversifying energy sources., This shift can protect countries from geopolitical risks and price fluctuations related to fossil fuels.\n",
            "\n",
            ", Investing in renewable energy technologies boosts economic growth by creating jobs in various sectors, such as manufacturing, installation, and maintenance., Moreover, renewable energy sources are inexhaustible, unlike fossil fuels, making them crucial for a sustainable energy system in the future., However, the transition to renewable energy faces challenges, like the intermittency of sources such as solar and wind, which don't produce energy continuously., Advancements in energy storage technologies and updating the grid infrastructure are necessary to address these issues., Investment in research, supportive policies, and international cooperation are essential to ensure a successful shift to renewable energy, leading to a cleaner, healthier, and more sustainable world.]\n"
          ]
        }
      ]
    },
    {
      "cell_type": "code",
      "source": [
        "sent_score = {}"
      ],
      "metadata": {
        "id": "pz1KCd3xrwOV"
      },
      "execution_count": 32,
      "outputs": []
    },
    {
      "cell_type": "code",
      "source": [
        "for sent in sent_tokens:\n",
        "  for word in sent:\n",
        "    if word.text.lower() in word_freq.keys():\n",
        "      if sent not in sent_score.keys():\n",
        "        sent_score[sent] = word_freq[word.text.lower()]\n",
        "      else :\n",
        "        sent_score[sent] += word_freq[word.text.lower()]\n",
        "\n"
      ],
      "metadata": {
        "id": "6QD6yXFJrzwF"
      },
      "execution_count": 34,
      "outputs": []
    },
    {
      "cell_type": "code",
      "source": [
        "print(sent_score)"
      ],
      "metadata": {
        "colab": {
          "base_uri": "https://localhost:8080/"
        },
        "id": "eRchiMVWtxc3",
        "outputId": "3ba45316-4904-491c-ab59-db39cfaf9678"
      },
      "execution_count": 35,
      "outputs": [
        {
          "output_type": "stream",
          "name": "stdout",
          "text": [
            "{Renewable energy comes from natural sources that are constantly replenished, such as sunlight, wind, rain, tides, waves, and geothermal heat.: 2.7500000000000004, Unlike fossil fuels, which are limited and polluting, renewable energy is sustainable and eco-friendly.\n",
            "\n",
            ": 2.8333333333333335, Renewable energy helps protect the environment by reducing greenhouse gas emissions and air pollution, both major causes of climate change and health issues.: 2.916666666666668, It also enhances energy security by reducing dependence on imported fuels and diversifying energy sources.: 3.2499999999999996, This shift can protect countries from geopolitical risks and price fluctuations related to fossil fuels.\n",
            "\n",
            ": 1.5833333333333335, Investing in renewable energy technologies boosts economic growth by creating jobs in various sectors, such as manufacturing, installation, and maintenance.: 2.3333333333333335, Moreover, renewable energy sources are inexhaustible, unlike fossil fuels, making them crucial for a sustainable energy system in the future.: 4.083333333333333, However, the transition to renewable energy faces challenges, like the intermittency of sources such as solar and wind, which don't produce energy continuously.: 3.5833333333333335, Advancements in energy storage technologies and updating the grid infrastructure are necessary to address these issues.: 1.833333333333333, Investment in research, supportive policies, and international cooperation are essential to ensure a successful shift to renewable energy, leading to a cleaner, healthier, and more sustainable world.: 2.833333333333334}\n"
          ]
        }
      ]
    },
    {
      "cell_type": "markdown",
      "source": [
        "**SELECT 30% SENTENCES WITH MAXIMUM SCORE**"
      ],
      "metadata": {
        "id": "7t0f77xUvqiY"
      }
    },
    {
      "cell_type": "code",
      "source": [
        "from heapq import nlargest"
      ],
      "metadata": {
        "id": "suSv7RmXvxLH"
      },
      "execution_count": 36,
      "outputs": []
    },
    {
      "cell_type": "code",
      "source": [
        "len(sent_score) * 0.3"
      ],
      "metadata": {
        "colab": {
          "base_uri": "https://localhost:8080/"
        },
        "id": "H8zinQz1wDJw",
        "outputId": "0b591c14-98e2-4c2c-9359-548365987541"
      },
      "execution_count": 38,
      "outputs": [
        {
          "output_type": "execute_result",
          "data": {
            "text/plain": [
              "3.0"
            ]
          },
          "metadata": {},
          "execution_count": 38
        }
      ]
    },
    {
      "cell_type": "code",
      "source": [
        "summary = nlargest(n = 3 , iterable =sent_score , key =sent_score.get)"
      ],
      "metadata": {
        "id": "wYfozaWnw5Ai"
      },
      "execution_count": 40,
      "outputs": []
    },
    {
      "cell_type": "code",
      "source": [
        "print(summary)"
      ],
      "metadata": {
        "colab": {
          "base_uri": "https://localhost:8080/"
        },
        "id": "ALTyo4PyxUsL",
        "outputId": "92a3be91-9de2-4a53-e328-c2554ebd9b08"
      },
      "execution_count": 41,
      "outputs": [
        {
          "output_type": "stream",
          "name": "stdout",
          "text": [
            "[Moreover, renewable energy sources are inexhaustible, unlike fossil fuels, making them crucial for a sustainable energy system in the future., However, the transition to renewable energy faces challenges, like the intermittency of sources such as solar and wind, which don't produce energy continuously., It also enhances energy security by reducing dependence on imported fuels and diversifying energy sources.]\n"
          ]
        }
      ]
    },
    {
      "cell_type": "markdown",
      "source": [
        "**COMBINE ALL THE TEXT**"
      ],
      "metadata": {
        "id": "wf0I9rK2xgDR"
      }
    },
    {
      "cell_type": "code",
      "source": [
        "final_summary = [word.text for word in summary]\n",
        "print(final_summary)"
      ],
      "metadata": {
        "colab": {
          "base_uri": "https://localhost:8080/"
        },
        "id": "9EesXvXUxkT6",
        "outputId": "298825e8-1481-46bd-8fb2-3f1b75452be8"
      },
      "execution_count": 43,
      "outputs": [
        {
          "output_type": "stream",
          "name": "stdout",
          "text": [
            "['Moreover, renewable energy sources are inexhaustible, unlike fossil fuels, making them crucial for a sustainable energy system in the future.', \"However, the transition to renewable energy faces challenges, like the intermittency of sources such as solar and wind, which don't produce energy continuously.\", 'It also enhances energy security by reducing dependence on imported fuels and diversifying energy sources.']\n"
          ]
        }
      ]
    },
    {
      "cell_type": "code",
      "source": [
        "summary = \" \".join(final_summary)\n",
        "print(summary)"
      ],
      "metadata": {
        "colab": {
          "base_uri": "https://localhost:8080/"
        },
        "id": "qmWME7U0x7a0",
        "outputId": "6c5835e3-ae8c-44a8-e3bd-c9288dc8076e"
      },
      "execution_count": 44,
      "outputs": [
        {
          "output_type": "stream",
          "name": "stdout",
          "text": [
            "Moreover, renewable energy sources are inexhaustible, unlike fossil fuels, making them crucial for a sustainable energy system in the future. However, the transition to renewable energy faces challenges, like the intermittency of sources such as solar and wind, which don't produce energy continuously. It also enhances energy security by reducing dependence on imported fuels and diversifying energy sources.\n"
          ]
        }
      ]
    },
    {
      "cell_type": "code",
      "source": [
        "len(summary)"
      ],
      "metadata": {
        "colab": {
          "base_uri": "https://localhost:8080/"
        },
        "id": "IoEqejpYyNFC",
        "outputId": "f2bb5a85-d19c-42e8-8791-b58d970223a0"
      },
      "execution_count": 45,
      "outputs": [
        {
          "output_type": "execute_result",
          "data": {
            "text/plain": [
              "409"
            ]
          },
          "metadata": {},
          "execution_count": 45
        }
      ]
    },
    {
      "cell_type": "code",
      "source": [
        "len(summary )/ len(text)"
      ],
      "metadata": {
        "colab": {
          "base_uri": "https://localhost:8080/"
        },
        "id": "KfGadHxSyWF3",
        "outputId": "ab3e6f05-dd2e-45b8-a924-47b3e82b7c25"
      },
      "execution_count": 47,
      "outputs": [
        {
          "output_type": "execute_result",
          "data": {
            "text/plain": [
              "0.29297994269340977"
            ]
          },
          "metadata": {},
          "execution_count": 47
        }
      ]
    }
  ]
}